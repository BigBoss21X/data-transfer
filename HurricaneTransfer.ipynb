{
 "cells": [
  {
   "cell_type": "markdown",
   "metadata": {},
   "source": [
    "# Data Transfer - Goes16\n",
    "\n",
    "This notebook helps outline a transfer process for managing a data transfer from RCC's Minio Server to the OSDC Griffin Ceph storage.   It relies on using AWS cli as a python subprocess.   This is necessary (instead of say - boto) because OSDC s3 utilizes a version of Ceph that necessitates awsv2 signitures.   \n",
    "\n",
    "We rely on awscli < 1.09 to manage this issue and connect to both resources. \n",
    "\n",
    "`pip install \"awscli>=1.0.0,<=1.09.0\"`\n",
    "\n",
    "Otherwise the goal her is to create scripts to transfer event data for Hurricanes Irma, Maria, and Jose (all >= category 4) to OSDC Griffin to make these easier for the community to use/study.\n",
    "\n",
    "The data is at: https://griffin-objstore.opensciencedatacloud.org/noaa-goes16-hurricane-archive-2017/\n",
    "\n",
    "For more information visit:  http://edc.occ-data.org/"
   ]
  },
  {
   "cell_type": "code",
   "execution_count": 1,
   "metadata": {},
   "outputs": [],
   "source": [
    "import subprocess"
   ]
  },
  {
   "cell_type": "markdown",
   "metadata": {},
   "source": [
    "# Create Bucket"
   ]
  },
  {
   "cell_type": "markdown",
   "metadata": {},
   "source": [
    "## Delete If Doesn't Exist"
   ]
  },
  {
   "cell_type": "code",
   "execution_count": 27,
   "metadata": {},
   "outputs": [],
   "source": [
    "deletebucket = 'aws s3 rb s3://noaa-goes16-hurricane-archive-2017/ --endpoint-url https://griffin-objstore.opensciencedatacloud.org --force'\n",
    "#deleteB=subprocess.Popen(deletebucket, shell=True, stdout = subprocess.PIPE)"
   ]
  },
  {
   "cell_type": "markdown",
   "metadata": {},
   "source": [
    "##  Make Bucket"
   ]
  },
  {
   "cell_type": "code",
   "execution_count": 28,
   "metadata": {},
   "outputs": [],
   "source": [
    "makebucket = 'aws s3 mb s3://noaa-goes16-hurricane-archive-2017/ --endpoint-url https://griffin-objstore.opensciencedatacloud.org'\n",
    "makeB=subprocess.Popen(makebucket, shell=True, stdout = subprocess.PIPE)"
   ]
  },
  {
   "cell_type": "markdown",
   "metadata": {},
   "source": [
    "# Data Transfer"
   ]
  },
  {
   "cell_type": "code",
   "execution_count": 11,
   "metadata": {},
   "outputs": [
    {
     "data": {
      "text/plain": [
       "'aws s3 cp s3://noaa-goes16/ABI-L1b-RadC/2017/355/01/ ~/Hurricane/. --no-sign-request --endpoint-url https://osdc.rcc.uchicago.edu --no-verify-ssl --recursive'"
      ]
     },
     "execution_count": 11,
     "metadata": {},
     "output_type": "execute_result"
    }
   ],
   "source": [
    "dataset = 'ABI-L1b-RadC'\n",
    "day = '355'\n",
    "rccloc = 's3://noaa-goes16/' + dataset + '/2017/' + day + '/01/'\n",
    "rccloc\n",
    "localdir = ' ~/Hurricane/.'\n",
    "cmd = 'aws s3 cp ' + rccloc + localdir + ' --no-sign-request --endpoint-url https://osdc.rcc.uchicago.edu --no-verify-ssl --recursive'\n",
    "cmd"
   ]
  },
  {
   "cell_type": "code",
   "execution_count": 8,
   "metadata": {},
   "outputs": [],
   "source": [
    "push=subprocess.Popen(cmd, shell=True, stdout = subprocess.PIPE)"
   ]
  },
  {
   "cell_type": "code",
   "execution_count": 30,
   "metadata": {},
   "outputs": [
    {
     "data": {
      "text/plain": [
       "'aws s3 cp  ~/Hurricane/. s3://noaa-goes16-hurricane-archive-2017/irma/ --endpoint-url https://griffin-objstore.opensciencedatacloud.org --acl public-read --recursive'"
      ]
     },
     "execution_count": 30,
     "metadata": {},
     "output_type": "execute_result"
    }
   ],
   "source": [
    "hurricane = 'irma'\n",
    "bucketloc = ' s3://noaa-goes16-hurricane-archive-2017/' + hurricane + '/'\n",
    "pushcmd = 'aws s3 cp ' + localdir + bucketloc + ' --endpoint-url https://griffin-objstore.opensciencedatacloud.org --acl public-read --recursive'\n",
    "pushcmd"
   ]
  },
  {
   "cell_type": "code",
   "execution_count": 31,
   "metadata": {},
   "outputs": [],
   "source": [
    "push=subprocess.Popen(pushcmd, shell=True, stdout = subprocess.PIPE)"
   ]
  },
  {
   "cell_type": "markdown",
   "metadata": {},
   "source": [
    "# Make Bucket Public"
   ]
  },
  {
   "cell_type": "code",
   "execution_count": 32,
   "metadata": {},
   "outputs": [],
   "source": [
    "makepublic = 'aws s3api put-bucket-acl --endpoint-url https://griffin-objstore.opensciencedatacloud.org --bucket noaa-goes16-hurricane-archive-2017 --acl public-read'\n",
    "makePub=subprocess.Popen(makepublic, shell=True, stdout = subprocess.PIPE)"
   ]
  },
  {
   "cell_type": "code",
   "execution_count": null,
   "metadata": {},
   "outputs": [],
   "source": []
  }
 ],
 "metadata": {
  "kernelspec": {
   "display_name": "Python 3",
   "language": "python",
   "name": "python3"
  },
  "language_info": {
   "codemirror_mode": {
    "name": "ipython",
    "version": 3
   },
   "file_extension": ".py",
   "mimetype": "text/x-python",
   "name": "python",
   "nbconvert_exporter": "python",
   "pygments_lexer": "ipython3",
   "version": "3.5.3"
  },
  "toc": {
   "nav_menu": {},
   "number_sections": true,
   "sideBar": true,
   "skip_h1_title": false,
   "toc_cell": false,
   "toc_position": {},
   "toc_section_display": "none",
   "toc_window_display": false
  }
 },
 "nbformat": 4,
 "nbformat_minor": 2
}
