{
 "cells": [
  {
   "cell_type": "markdown",
   "metadata": {},
   "source": [
    "# Data Transfer - Goes16\n",
    "\n",
    "This notebook helps outline a transfer process for managing a data transfer from RCC's Minio Server to the OSDC Griffin Ceph storage.   It relies on using AWS cli as a python subprocess.   This is necessary (instead of say - boto) because OSDC s3 utilizes a version of Ceph that necessitates awsv2 signitures.   \n",
    "\n",
    "We rely on awscli < 1.09 to manage this issue and connect to both resources. \n",
    "\n",
    "`pip install \"awscli>=1.0.0,<=1.09.0\"`\n",
    "\n",
    "Otherwise the goal her is to create scripts to transfer event data for Hurricanes Irma, Maria, and Jose (all >= category 4) to OSDC Griffin to make these easier for the community to use/study.\n",
    "\n",
    "The data is at: https://griffin-objstore.opensciencedatacloud.org/noaa-goes16-hurricane-archive-2017/\n",
    "\n",
    "For more information visit:  http://edc.occ-data.org/"
   ]
  },
  {
   "cell_type": "code",
   "execution_count": 4,
   "metadata": {},
   "outputs": [],
   "source": [
    "import subprocess, os, shutil"
   ]
  },
  {
   "cell_type": "markdown",
   "metadata": {},
   "source": [
    "# Create Bucket"
   ]
  },
  {
   "cell_type": "markdown",
   "metadata": {},
   "source": [
    "## Delete If Doesn't Exist"
   ]
  },
  {
   "cell_type": "code",
   "execution_count": 20,
   "metadata": {},
   "outputs": [],
   "source": [
    "deletebucket = 'aws s3 rb s3://noaa-goes16-hurricane-archive-2017/ --endpoint-url https://griffin-objstore.opensciencedatacloud.org --force'\n",
    "deleteB=subprocess.Popen(deletebucket, shell=True, stdout = subprocess.PIPE)"
   ]
  },
  {
   "cell_type": "markdown",
   "metadata": {},
   "source": [
    "##  Make Bucket"
   ]
  },
  {
   "cell_type": "code",
   "execution_count": 21,
   "metadata": {},
   "outputs": [],
   "source": [
    "makebucket = 'aws s3 mb s3://noaa-goes16-hurricane-archive-2017/ --endpoint-url https://griffin-objstore.opensciencedatacloud.org'\n",
    "makeB=subprocess.Popen(makebucket, shell=True, stdout = subprocess.PIPE)"
   ]
  },
  {
   "cell_type": "markdown",
   "metadata": {},
   "source": [
    "# Data Transfer"
   ]
  },
  {
   "cell_type": "code",
   "execution_count": 46,
   "metadata": {},
   "outputs": [],
   "source": [
    "sensor = 'ABI-L1b-RadC'\n",
    "hurricane = 'irma'\n",
    "day = '355'\n",
    "localdir = ' ~/Hurricane/.'"
   ]
  },
  {
   "cell_type": "code",
   "execution_count": 47,
   "metadata": {},
   "outputs": [
    {
     "data": {
      "text/plain": [
       "'aws s3 cp s3://noaa-goes16/ABI-L1b-RadC/2017/355/ ~/Hurricane/. --no-sign-request --endpoint-url https://osdc.rcc.uchicago.edu --no-verify-ssl --recursive'"
      ]
     },
     "execution_count": 47,
     "metadata": {},
     "output_type": "execute_result"
    }
   ],
   "source": [
    "rccloc = 's3://noaa-goes16/' + sensor + '/2017/' + day + '/'\n",
    "\n",
    "cmd = 'aws s3 cp ' + rccloc + localdir + ' --no-sign-request --endpoint-url https://osdc.rcc.uchicago.edu --no-verify-ssl --recursive'\n",
    "cmd"
   ]
  },
  {
   "cell_type": "code",
   "execution_count": 25,
   "metadata": {},
   "outputs": [],
   "source": [
    "push=subprocess.Popen(cmd, shell=True, stdout = subprocess.PIPE)"
   ]
  },
  {
   "cell_type": "code",
   "execution_count": 48,
   "metadata": {},
   "outputs": [
    {
     "data": {
      "text/plain": [
       "'aws s3 cp  ~/Hurricane/. s3://noaa-goes16-hurricane-archive-2017/irma/ABI-L1b-RadC/355/ --endpoint-url https://griffin-objstore.opensciencedatacloud.org --acl public-read --recursive'"
      ]
     },
     "execution_count": 48,
     "metadata": {},
     "output_type": "execute_result"
    }
   ],
   "source": [
    "bucketloc = ' s3://noaa-goes16-hurricane-archive-2017/' + hurricane + '/' + sensor + '/' + day + '/'\n",
    "pushcmd = 'aws s3 cp ' + localdir + bucketloc + ' --endpoint-url https://griffin-objstore.opensciencedatacloud.org --acl public-read --recursive'\n",
    "pushcmd"
   ]
  },
  {
   "cell_type": "code",
   "execution_count": 27,
   "metadata": {},
   "outputs": [],
   "source": [
    "push=subprocess.Popen(pushcmd, shell=True, stdout = subprocess.PIPE)"
   ]
  },
  {
   "cell_type": "code",
   "execution_count": 19,
   "metadata": {},
   "outputs": [],
   "source": [
    "## delete folder contents\n",
    "def cleanhouse(folder):\n",
    "    # https://stackoverflow.com/questions/185936/how-to-delete-the-contents-of-a-folder-in-python\n",
    "    for the_file in os.listdir(folder):\n",
    "        file_path = os.path.join(folder, the_file)\n",
    "        try:\n",
    "            if os.path.isfile(file_path):\n",
    "                os.unlink(file_path)\n",
    "            elif os.path.isdir(file_path): shutil.rmtree(file_path)\n",
    "        except Exception as e:\n",
    "            print(e)"
   ]
  },
  {
   "cell_type": "code",
   "execution_count": 39,
   "metadata": {},
   "outputs": [],
   "source": [
    "folder = '/home/wells_walt/Hurricane'\n",
    "cleanhouse(folder)"
   ]
  },
  {
   "cell_type": "markdown",
   "metadata": {},
   "source": [
    "# Make Bucket Public"
   ]
  },
  {
   "cell_type": "code",
   "execution_count": 28,
   "metadata": {},
   "outputs": [],
   "source": [
    "makepublic = 'aws s3api put-bucket-acl --endpoint-url https://griffin-objstore.opensciencedatacloud.org --bucket noaa-goes16-hurricane-archive-2017 --acl public-read'\n",
    "makePub=subprocess.Popen(makepublic, shell=True, stdout = subprocess.PIPE)"
   ]
  },
  {
   "cell_type": "code",
   "execution_count": null,
   "metadata": {},
   "outputs": [],
   "source": []
  }
 ],
 "metadata": {
  "kernelspec": {
   "display_name": "Python 3",
   "language": "python",
   "name": "python3"
  },
  "language_info": {
   "codemirror_mode": {
    "name": "ipython",
    "version": 3
   },
   "file_extension": ".py",
   "mimetype": "text/x-python",
   "name": "python",
   "nbconvert_exporter": "python",
   "pygments_lexer": "ipython3",
   "version": "3.5.3"
  },
  "toc": {
   "nav_menu": {},
   "number_sections": true,
   "sideBar": true,
   "skip_h1_title": false,
   "toc_cell": false,
   "toc_position": {},
   "toc_section_display": "none",
   "toc_window_display": false
  }
 },
 "nbformat": 4,
 "nbformat_minor": 2
}
